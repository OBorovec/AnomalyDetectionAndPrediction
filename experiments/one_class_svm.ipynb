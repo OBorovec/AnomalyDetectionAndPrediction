{
 "cells": [
  {
   "cell_type": "markdown",
   "metadata": {
    "collapsed": true
   },
   "source": [
    "# One class SVM"
   ]
  },
  {
   "cell_type": "code",
   "execution_count": 12,
   "metadata": {},
   "outputs": [
    {
     "name": "stdout",
     "output_type": "stream",
     "text": [
      "The autoreload extension is already loaded. To reload it, use:\n",
      "  %reload_ext autoreload\n"
     ]
    }
   ],
   "source": [
    "%load_ext autoreload\n",
    "%autoreload 2\n",
    "import warnings\n",
    "warnings.filterwarnings('ignore')"
   ]
  },
  {
   "cell_type": "code",
   "execution_count": 19,
   "metadata": {},
   "outputs": [],
   "source": [
    "import datetime\n",
    "from datetime import timezone\n",
    "import pickle\n",
    "from sklearn.svm import OneClassSVM\n",
    "from scipy.sparse import vstack\n",
    "\n",
    "try:\n",
    "    import sys\n",
    "    sys.path.append(\"../dataset/\")\n",
    "    from dataset_producer import DatasetProducer, DatasetEvaluation, DATASETS, get_log_pattern_key, get_log_timestamp\n",
    "    iwiget = True\n",
    "except:\n",
    "    from dataset.dataset_producer import DatasetProducer, DatasetEvaluation, DATASETS, get_log_pattern_key, get_log_timestamp\n",
    "    iwiget = False"
   ]
  },
  {
   "cell_type": "code",
   "execution_count": 27,
   "metadata": {},
   "outputs": [],
   "source": [
    "SUBMIT_LIMIT = datetime.timedelta(minutes=1)\n",
    "\n",
    "def basic_oc_svm_test(dataset_name=DATASETS.DATASET_TEST, window_range=12):\n",
    "    models = {}\n",
    "    print(\"_______________________________________________________________________________________\")\n",
    "    dataset = DatasetProducer(dataset_name, window=window_range)\n",
    "\n",
    "    print(\"Learning\")\n",
    "    learning_matrix = None\n",
    "    learning_matrix_norm = None\n",
    "    for _, features in dataset.emulate_log_count_matrix(iwiget=iwiget, training=True):\n",
    "        if learning_matrix is not None:\n",
    "            learning_matrix = vstack((learning_matrix, features))\n",
    "            learning_matrix_norm = vstack((learning_matrix, features/features.max()))\n",
    "        else:\n",
    "            learning_matrix = features\n",
    "            learning_matrix_norm = features/features.max()\n",
    "            \n",
    "    for fsize in range(window_range, 2, -1):\n",
    "        print(\"Fitting models for fsize {}\".format(fsize))   \n",
    "        trainig_features = learning_matrix[:,-fsize:]\n",
    "        trainig_features_norm = learning_matrix_norm[:,-fsize:]     \n",
    "        oc_svm_rbf = (OneClassSVM(), dataset.get_evaluation(), datetime.datetime(1970, 1, 1, tzinfo=timezone.utc))\n",
    "        oc_svm_rbf_norm = (OneClassSVM(), dataset.get_evaluation(), datetime.datetime(1970, 1, 1, tzinfo=timezone.utc))\n",
    "        oc_svm_poly = (OneClassSVM(kernel=\"poly\"), dataset.get_evaluation(), datetime.datetime(1970, 1, 1, tzinfo=timezone.utc))\n",
    "        oc_svm_poly_norm = (OneClassSVM(kernel=\"poly\"), dataset.get_evaluation(), datetime.datetime(1970, 1, 1, tzinfo=timezone.utc))\n",
    "        oc_svm_rbf[0].fit(trainig_features)\n",
    "        oc_svm_poly[0].fit(trainig_features)\n",
    "        oc_svm_rbf_norm[0].fit(trainig_features_norm)\n",
    "        oc_svm_poly_norm[0].fit(trainig_features_norm)\n",
    "        models[fsize] = [oc_svm_rbf, oc_svm_poly, oc_svm_rbf_norm, oc_svm_poly_norm]\n",
    "\n",
    "    print(\"Execution\")\n",
    "    for ts, features in dataset.emulate_log_count_matrix(iwiget=iwiget):\n",
    "        feature_normalized = features/features.max()\n",
    "        for fsize in range(window_range, 2, -1):\n",
    "            f = [features[:,-fsize:], features[:,-fsize:], feature_normalized[:,-fsize:], feature_normalized[:,-fsize:]]\n",
    "            for oc_svm, f in zip(models[fsize], f):\n",
    "                if oc_svm[0].predict(f) and ts - oc_svm[2] > SUBMIT_LIMIT:\n",
    "                    dataset.submit(ts, oc_svm[1])\n",
    "                    \n",
    "    print(\"_______Results_______\")\n",
    "    for fsize in range(window_range, 2, -1):\n",
    "        labels = [\"OC SVM RBF\", \"OC SVM Poly\", \"OC SVM RBF Norm\", \"OC SVM Poly Norm\"]\n",
    "        for oc_svm, label in zip(models[fsize], labels):\n",
    "            print(label)\n",
    "            oc_svm[1].evaluate()\n",
    "    return models"
   ]
  },
  {
   "cell_type": "code",
   "execution_count": 28,
   "metadata": {},
   "outputs": [
    {
     "name": "stdout",
     "output_type": "stream",
     "text": [
      "_______________________________________________________________________________________\n",
      "Learning\n"
     ]
    },
    {
     "data": {
      "application/vnd.jupyter.widget-view+json": {
       "model_id": "",
       "version_major": 2,
       "version_minor": 0
      },
      "text/plain": [
       "IntProgress(value=0, description='Files:', max=2)"
      ]
     },
     "metadata": {},
     "output_type": "display_data"
    },
    {
     "data": {
      "application/vnd.jupyter.widget-view+json": {
       "model_id": "",
       "version_major": 2,
       "version_minor": 0
      },
      "text/plain": [
       "IntProgress(value=0, description='Segments:', max=10)"
      ]
     },
     "metadata": {},
     "output_type": "display_data"
    },
    {
     "name": "stdout",
     "output_type": "stream",
     "text": [
      "Done.\n",
      "Fitting models for fsize 12\n",
      "Fitting models for fsize 11\n",
      "Fitting models for fsize 10\n",
      "Fitting models for fsize 9\n",
      "Fitting models for fsize 8\n",
      "Fitting models for fsize 7\n",
      "Fitting models for fsize 6\n",
      "Fitting models for fsize 5\n",
      "Fitting models for fsize 4\n",
      "Fitting models for fsize 3\n",
      "Execution\n"
     ]
    },
    {
     "data": {
      "application/vnd.jupyter.widget-view+json": {
       "model_id": "",
       "version_major": 2,
       "version_minor": 0
      },
      "text/plain": [
       "IntProgress(value=0, description='Files:', max=2)"
      ]
     },
     "metadata": {},
     "output_type": "display_data"
    },
    {
     "data": {
      "application/vnd.jupyter.widget-view+json": {
       "model_id": "",
       "version_major": 2,
       "version_minor": 0
      },
      "text/plain": [
       "IntProgress(value=0, description='Segments:', max=10)"
      ]
     },
     "metadata": {},
     "output_type": "display_data"
    },
    {
     "name": "stdout",
     "output_type": "stream",
     "text": [
      "Done.\n",
      "_______Results_______\n",
      "OC SVM RBF\n",
      "_____________________________________________________\n",
      "Problems detected: 1 of 1\n",
      "FP count: 0\n",
      "Maintenance hits: 0\n",
      "Total score: 0\n",
      "_____________________________________________________\n",
      "OC SVM Poly\n",
      "_____________________________________________________\n",
      "Problems detected: 1 of 1\n",
      "FP count: 0\n",
      "Maintenance hits: 0\n",
      "Total score: 0\n",
      "_____________________________________________________\n",
      "OC SVM RBF Norm\n",
      "_____________________________________________________\n",
      "Problems detected: 1 of 1\n",
      "FP count: 0\n",
      "Maintenance hits: 0\n",
      "Total score: 0\n",
      "_____________________________________________________\n",
      "OC SVM Poly Norm\n",
      "_____________________________________________________\n",
      "Problems detected: 1 of 1\n",
      "FP count: 0\n",
      "Maintenance hits: 0\n",
      "Total score: 0\n",
      "_____________________________________________________\n",
      "OC SVM RBF\n",
      "_____________________________________________________\n",
      "Problems detected: 1 of 1\n",
      "FP count: 0\n",
      "Maintenance hits: 0\n",
      "Total score: 0\n",
      "_____________________________________________________\n",
      "OC SVM Poly\n",
      "_____________________________________________________\n",
      "Problems detected: 1 of 1\n",
      "FP count: 0\n",
      "Maintenance hits: 0\n",
      "Total score: 0\n",
      "_____________________________________________________\n",
      "OC SVM RBF Norm\n",
      "_____________________________________________________\n",
      "Problems detected: 1 of 1\n",
      "FP count: 0\n",
      "Maintenance hits: 0\n",
      "Total score: 0\n",
      "_____________________________________________________\n",
      "OC SVM Poly Norm\n",
      "_____________________________________________________\n",
      "Problems detected: 1 of 1\n",
      "FP count: 0\n",
      "Maintenance hits: 0\n",
      "Total score: 0\n",
      "_____________________________________________________\n",
      "OC SVM RBF\n",
      "_____________________________________________________\n",
      "Problems detected: 1 of 1\n",
      "FP count: 0\n",
      "Maintenance hits: 0\n",
      "Total score: 0\n",
      "_____________________________________________________\n",
      "OC SVM Poly\n",
      "_____________________________________________________\n",
      "Problems detected: 1 of 1\n",
      "FP count: 0\n",
      "Maintenance hits: 0\n",
      "Total score: 0\n",
      "_____________________________________________________\n",
      "OC SVM RBF Norm\n",
      "_____________________________________________________\n",
      "Problems detected: 1 of 1\n",
      "FP count: 0\n",
      "Maintenance hits: 0\n",
      "Total score: 0\n",
      "_____________________________________________________\n",
      "OC SVM Poly Norm\n",
      "_____________________________________________________\n",
      "Problems detected: 1 of 1\n",
      "FP count: 0\n",
      "Maintenance hits: 0\n",
      "Total score: 0\n",
      "_____________________________________________________\n",
      "OC SVM RBF\n",
      "_____________________________________________________\n",
      "Problems detected: 1 of 1\n",
      "FP count: 0\n",
      "Maintenance hits: 0\n",
      "Total score: 0\n",
      "_____________________________________________________\n",
      "OC SVM Poly\n",
      "_____________________________________________________\n",
      "Problems detected: 1 of 1\n",
      "FP count: 0\n",
      "Maintenance hits: 0\n",
      "Total score: 0\n",
      "_____________________________________________________\n",
      "OC SVM RBF Norm\n",
      "_____________________________________________________\n",
      "Problems detected: 1 of 1\n",
      "FP count: 0\n",
      "Maintenance hits: 0\n",
      "Total score: 0\n",
      "_____________________________________________________\n",
      "OC SVM Poly Norm\n",
      "_____________________________________________________\n",
      "Problems detected: 1 of 1\n",
      "FP count: 0\n",
      "Maintenance hits: 0\n",
      "Total score: 0\n",
      "_____________________________________________________\n",
      "OC SVM RBF\n",
      "_____________________________________________________\n",
      "Problems detected: 1 of 1\n",
      "FP count: 0\n",
      "Maintenance hits: 0\n",
      "Total score: 0\n",
      "_____________________________________________________\n",
      "OC SVM Poly\n",
      "_____________________________________________________\n",
      "Problems detected: 1 of 1\n",
      "FP count: 0\n",
      "Maintenance hits: 0\n",
      "Total score: 0\n",
      "_____________________________________________________\n",
      "OC SVM RBF Norm\n",
      "_____________________________________________________\n",
      "Problems detected: 1 of 1\n",
      "FP count: 0\n",
      "Maintenance hits: 0\n",
      "Total score: 0\n",
      "_____________________________________________________\n",
      "OC SVM Poly Norm\n",
      "_____________________________________________________\n",
      "Problems detected: 1 of 1\n",
      "FP count: 0\n",
      "Maintenance hits: 0\n",
      "Total score: 0\n",
      "_____________________________________________________\n",
      "OC SVM RBF\n",
      "_____________________________________________________\n",
      "Problems detected: 1 of 1\n",
      "FP count: 0\n",
      "Maintenance hits: 0\n",
      "Total score: 0\n",
      "_____________________________________________________\n",
      "OC SVM Poly\n",
      "_____________________________________________________\n",
      "Problems detected: 1 of 1\n",
      "FP count: 0\n",
      "Maintenance hits: 0\n",
      "Total score: 0\n",
      "_____________________________________________________\n",
      "OC SVM RBF Norm\n",
      "_____________________________________________________\n",
      "Problems detected: 1 of 1\n",
      "FP count: 0\n",
      "Maintenance hits: 0\n",
      "Total score: 0\n",
      "_____________________________________________________\n",
      "OC SVM Poly Norm\n",
      "_____________________________________________________\n",
      "Problems detected: 1 of 1\n",
      "FP count: 0\n",
      "Maintenance hits: 0\n",
      "Total score: 0\n",
      "_____________________________________________________\n",
      "OC SVM RBF\n",
      "_____________________________________________________\n",
      "Problems detected: 1 of 1\n",
      "FP count: 0\n",
      "Maintenance hits: 0\n",
      "Total score: 0\n",
      "_____________________________________________________\n",
      "OC SVM Poly\n",
      "_____________________________________________________\n",
      "Problems detected: 1 of 1\n",
      "FP count: 0\n",
      "Maintenance hits: 0\n",
      "Total score: 0\n",
      "_____________________________________________________\n",
      "OC SVM RBF Norm\n",
      "_____________________________________________________\n",
      "Problems detected: 1 of 1\n",
      "FP count: 0\n",
      "Maintenance hits: 0\n",
      "Total score: 0\n",
      "_____________________________________________________\n",
      "OC SVM Poly Norm\n",
      "_____________________________________________________\n",
      "Problems detected: 1 of 1\n",
      "FP count: 0\n",
      "Maintenance hits: 0\n",
      "Total score: 0\n",
      "_____________________________________________________\n",
      "OC SVM RBF\n",
      "_____________________________________________________\n",
      "Problems detected: 1 of 1\n",
      "FP count: 0\n",
      "Maintenance hits: 0\n",
      "Total score: 0\n",
      "_____________________________________________________\n",
      "OC SVM Poly\n",
      "_____________________________________________________\n",
      "Problems detected: 1 of 1\n",
      "FP count: 0\n",
      "Maintenance hits: 0\n",
      "Total score: 0\n",
      "_____________________________________________________\n",
      "OC SVM RBF Norm\n",
      "_____________________________________________________\n",
      "Problems detected: 1 of 1\n",
      "FP count: 0\n",
      "Maintenance hits: 0\n",
      "Total score: 0\n",
      "_____________________________________________________\n",
      "OC SVM Poly Norm\n",
      "_____________________________________________________\n",
      "Problems detected: 1 of 1\n",
      "FP count: 0\n",
      "Maintenance hits: 0\n",
      "Total score: 0\n",
      "_____________________________________________________\n",
      "OC SVM RBF\n",
      "_____________________________________________________\n",
      "Problems detected: 1 of 1\n",
      "FP count: 0\n",
      "Maintenance hits: 0\n",
      "Total score: 0\n",
      "_____________________________________________________\n",
      "OC SVM Poly\n",
      "_____________________________________________________\n",
      "Problems detected: 1 of 1\n",
      "FP count: 0\n",
      "Maintenance hits: 0\n",
      "Total score: 0\n",
      "_____________________________________________________\n",
      "OC SVM RBF Norm\n",
      "_____________________________________________________\n",
      "Problems detected: 1 of 1\n",
      "FP count: 0\n",
      "Maintenance hits: 0\n",
      "Total score: 0\n",
      "_____________________________________________________\n",
      "OC SVM Poly Norm\n",
      "_____________________________________________________\n",
      "Problems detected: 1 of 1\n",
      "FP count: 0\n",
      "Maintenance hits: 0\n",
      "Total score: 0\n",
      "_____________________________________________________\n",
      "OC SVM RBF\n",
      "_____________________________________________________\n",
      "Problems detected: 1 of 1\n",
      "FP count: 0\n",
      "Maintenance hits: 0\n",
      "Total score: 0\n",
      "_____________________________________________________\n",
      "OC SVM Poly\n",
      "_____________________________________________________\n",
      "Problems detected: 1 of 1\n",
      "FP count: 0\n",
      "Maintenance hits: 0\n",
      "Total score: 0\n",
      "_____________________________________________________\n",
      "OC SVM RBF Norm\n",
      "_____________________________________________________\n",
      "Problems detected: 1 of 1\n",
      "FP count: 0\n",
      "Maintenance hits: 0\n",
      "Total score: 0\n",
      "_____________________________________________________\n",
      "OC SVM Poly Norm\n",
      "_____________________________________________________\n",
      "Problems detected: 1 of 1\n",
      "FP count: 0\n",
      "Maintenance hits: 0\n",
      "Total score: 0\n",
      "_____________________________________________________\n"
     ]
    }
   ],
   "source": [
    "oc_svm_test_dataset = basic_oc_svm_test(dataset_name=DATASETS.DATASET_TEST)\n",
    "pickle.dump( oc_svm_test_dataset, open( \"dumps/oc_svm_test_dataset.p\", \"wb\" ) )"
   ]
  },
  {
   "cell_type": "code",
   "execution_count": null,
   "metadata": {},
   "outputs": [
    {
     "name": "stdout",
     "output_type": "stream",
     "text": [
      "_______________________________________________________________________________________\n",
      "Learning\n"
     ]
    },
    {
     "data": {
      "application/vnd.jupyter.widget-view+json": {
       "model_id": "",
       "version_major": 2,
       "version_minor": 0
      },
      "text/plain": [
       "IntProgress(value=0, description='Files:', max=97)"
      ]
     },
     "metadata": {},
     "output_type": "display_data"
    },
    {
     "data": {
      "application/vnd.jupyter.widget-view+json": {
       "model_id": "",
       "version_major": 2,
       "version_minor": 0
      },
      "text/plain": [
       "IntProgress(value=0, description='Segments:', max=10)"
      ]
     },
     "metadata": {},
     "output_type": "display_data"
    },
    {
     "name": "stdout",
     "output_type": "stream",
     "text": [
      "Done.\n",
      "Fitting models for fsize 12\n",
      "Fitting models for fsize 11\n"
     ]
    }
   ],
   "source": [
    "basic_oc_svm_dataset_1 = basic_oc_svm_test(dataset_name=DATASETS.DATASET_1)\n",
    "pickle.dump( basic_oc_svm_dataset_1, open( \"dumps/basic_oc_svm_dataset_1.p\", \"wb\" ) )"
   ]
  },
  {
   "cell_type": "code",
   "execution_count": null,
   "metadata": {},
   "outputs": [],
   "source": [
    "basic_oc_svm_dataset_2 = basic_oc_svm_test(dataset_name=DATASETS.DATASET_2)\n",
    "pickle.dump( basic_oc_svm_dataset_2, open( \"dumps/basic_oc_svm_dataset_2.p\", \"wb\" ) )"
   ]
  },
  {
   "cell_type": "code",
   "execution_count": null,
   "metadata": {},
   "outputs": [],
   "source": []
  }
 ],
 "metadata": {
  "kernelspec": {
   "display_name": "Python 3",
   "language": "python",
   "name": "python3"
  },
  "language_info": {
   "codemirror_mode": {
    "name": "ipython",
    "version": 3
   },
   "file_extension": ".py",
   "mimetype": "text/x-python",
   "name": "python",
   "nbconvert_exporter": "python",
   "pygments_lexer": "ipython3",
   "version": "3.6.4"
  }
 },
 "nbformat": 4,
 "nbformat_minor": 1
}

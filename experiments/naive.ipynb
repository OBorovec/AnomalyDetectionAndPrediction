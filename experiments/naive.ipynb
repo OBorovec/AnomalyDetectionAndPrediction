{
 "cells": [
  {
   "cell_type": "markdown",
   "metadata": {
    "collapsed": true,
    "pycharm": {}
   },
   "source": [
    "# Naive algorithm \n",
    "This algorithm only checks if a log key pattern has been observed before or not."
   ]
  },
  {
   "cell_type": "code",
   "execution_count": 1,
   "metadata": {
    "pycharm": {
     "is_executing": false
    }
   },
   "outputs": [],
   "source": [
    "%load_ext autoreload\n",
    "%autoreload 2\n",
    "import warnings\n",
    "warnings.filterwarnings('ignore')"
   ]
  },
  {
   "cell_type": "code",
   "execution_count": 2,
   "metadata": {
    "pycharm": {
     "is_executing": false
    }
   },
   "outputs": [],
   "source": [
    "import datetime\n",
    "from datetime import timezone\n",
    "\n",
    "try:\n",
    "    import sys\n",
    "    sys.path.append(\"../dataset/\")\n",
    "    from dataset_producer import DatasetProducer, DATASETS, get_log_pattern_key, get_log_timestamp\n",
    "    iwiget=True\n",
    "except:\n",
    "    from dataset.dataset_producer import DatasetProducer, DATASETS, get_log_pattern_key, get_log_timestamp\n",
    "    iwiget=False"
   ]
  },
  {
   "cell_type": "code",
   "execution_count": 3,
   "metadata": {
    "pycharm": {
     "is_executing": false
    }
   },
   "outputs": [],
   "source": [
    "SUBMIT_LIMIT = datetime.timedelta(minutes=1)\n",
    "\n",
    "\n",
    "def naive(ds, iwiget):\n",
    "    seen_pattern_keys = set()\n",
    "    print(\"Learning phase\")\n",
    "    for log_list in ds.emulate_log_sequence(iwiget=iwiget, training=True):\n",
    "        log = log_list[-1]\n",
    "        log_pattern_key = get_log_pattern_key(log)\n",
    "        seen_pattern_keys.add(log_pattern_key)\n",
    "    \n",
    "    print(\"Testing phase\")\n",
    "    last_submit = datetime.datetime(1970, 1, 1, tzinfo=timezone.utc)\n",
    "    for log_list in ds.emulate_log_sequence(iwiget=iwiget): \n",
    "        log = log_list[-1]\n",
    "        log_pattern_key = get_log_pattern_key(log)\n",
    "        log_timestamp = get_log_timestamp(log)\n",
    "        if log_pattern_key not in seen_pattern_keys and log_timestamp - last_submit > SUBMIT_LIMIT:\n",
    "            dataset.submit(log[\"@timestamp\"])\n",
    "            last_submit = log_timestamp"
   ]
  },
  {
   "cell_type": "code",
   "execution_count": 4,
   "metadata": {
    "pycharm": {
     "is_executing": false
    }
   },
   "outputs": [
    {
     "name": "stdout",
     "output_type": "stream",
     "text": [
      "Learning phase\n"
     ]
    },
    {
     "data": {
      "text/plain": [
       "IntProgress(value=0, description='Files:', max=2)"
      ]
     },
     "metadata": {},
     "output_type": "display_data"
    },
    {
     "data": {
      "text/plain": [
       "IntProgress(value=0, description='Segments:', max=10)"
      ]
     },
     "metadata": {},
     "output_type": "display_data"
    },
    {
     "name": "stdout",
     "output_type": "stream",
     "text": [
      "Testing phase\n"
     ]
    },
    {
     "data": {
      "text/plain": [
       "IntProgress(value=0, description='Files:', max=2)"
      ]
     },
     "metadata": {},
     "output_type": "display_data"
    },
    {
     "data": {
      "text/plain": [
       "IntProgress(value=0, description='Segments:', max=10)"
      ]
     },
     "metadata": {},
     "output_type": "display_data"
    },
    {
     "name": "stdout",
     "output_type": "stream",
     "text": [
      "_____________________________________________________\n",
      "Problems detected: 1 of 1\n",
      "FP count: 0\n",
      "Maintenance hits: 1\n",
      "Total score: 0\n",
      "_____________________________________________________\n"
     ]
    }
   ],
   "source": [
    "dataset = DatasetProducer(DATASETS.DATASET_TEST, window=1)\n",
    "naive(dataset, iwiget)\n",
    "dataset.evaluate()"
   ]
  },
  {
   "cell_type": "code",
   "execution_count": 5,
   "metadata": {
    "pycharm": {
     "is_executing": true
    }
   },
   "outputs": [
    {
     "name": "stdout",
     "output_type": "stream",
     "text": [
      "Learning phase\n"
     ]
    },
    {
     "data": {
      "text/plain": [
       "IntProgress(value=0, description='Files:', max=97)"
      ]
     },
     "metadata": {},
     "output_type": "display_data"
    },
    {
     "data": {
      "text/plain": [
       "IntProgress(value=0, description='Segments:', max=10)"
      ]
     },
     "metadata": {},
     "output_type": "display_data"
    },
    {
     "name": "stdout",
     "output_type": "stream",
     "text": [
      "Testing phase\n"
     ]
    },
    {
     "data": {
      "text/plain": [
       "IntProgress(value=0, description='Files:', max=407)"
      ]
     },
     "metadata": {},
     "output_type": "display_data"
    },
    {
     "data": {
      "text/plain": [
       "IntProgress(value=0, description='Segments:', max=10)"
      ]
     },
     "metadata": {},
     "output_type": "display_data"
    }
   ],
   "source": [
    "dataset = DatasetProducer(DATASETS.DATASET_1, window=1)\n",
    "naive(dataset, iwiget)\n",
    "dataset.evaluate()\n",
    "pickle.dump( dataset.evaluation, open( \"dumps/naive_dataset_1.p\", \"wb\" ) )"
   ]
  },
  {
   "cell_type": "code",
   "execution_count": 6,
   "metadata": {
    "pycharm": {}
   },
   "outputs": [
    {
     "name": "stdout",
     "output_type": "stream",
     "text": [
      "Learning phase\n"
     ]
    },
    {
     "name": "stderr",
     "output_type": "stream",
     "text": [
      "[autoreload of dataset_producer failed: Traceback (most recent call last):\n",
      "  File \"/Library/Frameworks/Python.framework/Versions/3.6/lib/python3.6/site-packages/IPython/extensions/autoreload.py\", line 247, in check\n",
      "    superreload(m, reload, self.old_objects)\n",
      "RecursionError: maximum recursion depth exceeded\n",
      "]\n"
     ]
    },
    {
     "data": {
      "text/plain": [
       "IntProgress(value=0, description='Files:', max=73)"
      ]
     },
     "metadata": {},
     "output_type": "display_data"
    },
    {
     "data": {
      "text/plain": [
       "IntProgress(value=0, description='Segments:', max=10)"
      ]
     },
     "metadata": {},
     "output_type": "display_data"
    },
    {
     "name": "stdout",
     "output_type": "stream",
     "text": [
      "Testing phase\n"
     ]
    },
    {
     "data": {
      "text/plain": [
       "IntProgress(value=0, description='Files:', max=71)"
      ]
     },
     "metadata": {},
     "output_type": "display_data"
    },
    {
     "data": {
      "text/plain": [
       "IntProgress(value=0, description='Segments:', max=10)"
      ]
     },
     "metadata": {},
     "output_type": "display_data"
    }
   ],
   "source": [
    "dataset = DatasetProducer(DATASETS.DATASET_2, window=1)\n",
    "naive(dataset, iwiget)\n",
    "dataset.evaluate()\n",
    "pickle.dump( dataset.evaluation, open( \"dumps/naive_dataset_2.p\", \"wb\" ) )"
   ]
  },
  {
   "cell_type": "code",
   "execution_count": null,
   "metadata": {},
   "outputs": [],
   "source": []
  }
 ],
 "metadata": {
  "kernelspec": {
   "display_name": "Python 3",
   "language": "python",
   "name": "python3"
  },
  "language_info": {
   "codemirror_mode": {
    "name": "ipython",
    "version": 3
   },
   "file_extension": ".py",
   "mimetype": "text/x-python",
   "name": "python",
   "nbconvert_exporter": "python",
   "pygments_lexer": "ipython3",
   "version": "3.6.4"
  }
 },
 "nbformat": 4,
 "nbformat_minor": 1
}
